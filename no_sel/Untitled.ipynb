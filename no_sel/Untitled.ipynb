{
 "cells": [
  {
   "cell_type": "code",
   "execution_count": 2,
   "metadata": {},
   "outputs": [
    {
     "name": "stdout",
     "output_type": "stream",
     "text": [
      "Sending build context to Docker daemon  24.06kB\n",
      "Step 1/10 : FROM python:3.7\n",
      " ---> 7360739e4c5f\n",
      "Step 2/10 : LABEL io.openshift.s2i.scripts-url=\"image:///s2i/bin\"\n",
      " ---> Using cache\n",
      " ---> e80f741ad890\n",
      "Step 3/10 : RUN apt-get update -y\n",
      " ---> Using cache\n",
      " ---> 338531ce7265\n",
      "Step 4/10 : RUN apt-get install -y python-pip python-dev build-essential\n",
      " ---> Using cache\n",
      " ---> 0bbe6f2a8715\n",
      "Step 5/10 : RUN mkdir workdir\n",
      " ---> Using cache\n",
      " ---> 160b6ead2a2e\n",
      "Step 6/10 : WORKDIR /workdir\n",
      " ---> Using cache\n",
      " ---> 759e2f07533b\n",
      "Step 7/10 : COPY ./s2i/bin/ /s2i/bin\n",
      " ---> Using cache\n",
      " ---> 98e4b3f33796\n",
      "Step 8/10 : COPY requirements.txt ./requirements.txt\n",
      " ---> d7e6795047d3\n",
      "Step 9/10 : RUN pip install -r requirements.txt\n",
      " ---> Running in df132a430515\n",
      "Removing intermediate container df132a430515\n",
      " ---> c98c363dd55a\n",
      "Step 10/10 : EXPOSE 5000\n",
      " ---> Running in 812ee58da0bb\n",
      "Removing intermediate container 812ee58da0bb\n",
      " ---> 3c3936fc857d\n",
      "Successfully built 3c3936fc857d\n",
      "Successfully tagged s2i_base_img_no_sel:2\n"
     ]
    }
   ],
   "source": [
    "!sudo docker build -t s2i_base_img_no_sel:2 ."
   ]
  },
  {
   "cell_type": "code",
   "execution_count": 3,
   "metadata": {},
   "outputs": [
    {
     "name": "stdout",
     "output_type": "stream",
     "text": [
      "---> Installing application source...\n",
      "---> Installing dependencies ...\n",
      "Looking in links: /whl\n",
      "Build completed successfully\n"
     ]
    }
   ],
   "source": [
    "!sudo s2i build . s2i_base_img_no_sel:2 -e PYTHON_SCRIPT=hrchurn1.py s2i_base_img_no_sel"
   ]
  },
  {
   "cell_type": "code",
   "execution_count": null,
   "metadata": {},
   "outputs": [],
   "source": []
  }
 ],
 "metadata": {
  "kernelspec": {
   "display_name": "Python 3",
   "language": "python",
   "name": "python3"
  },
  "language_info": {
   "codemirror_mode": {
    "name": "ipython",
    "version": 3
   },
   "file_extension": ".py",
   "mimetype": "text/x-python",
   "name": "python",
   "nbconvert_exporter": "python",
   "pygments_lexer": "ipython3",
   "version": "3.5.3"
  }
 },
 "nbformat": 4,
 "nbformat_minor": 2
}
